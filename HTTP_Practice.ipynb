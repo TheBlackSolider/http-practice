{
  "nbformat": 4,
  "nbformat_minor": 0,
  "metadata": {
    "colab": {
      "provenance": []
    },
    "kernelspec": {
      "name": "python3",
      "display_name": "Python 3"
    },
    "language_info": {
      "name": "python"
    }
  },
  "cells": [
    {
      "cell_type": "markdown",
      "source": [
        "# HTTP Practice Project\n",
        "This notebook contains implementations of various HTTP requests using the `requests` library. Below are the functions to perform GET, POST, PUT, PATCH, DELETE requests, and inspecting headers during a redirect.\n"
      ],
      "metadata": {
        "id": "IeFKzDb3PA2c"
      }
    },
    {
      "cell_type": "code",
      "execution_count": 1,
      "metadata": {
        "colab": {
          "base_uri": "https://localhost:8080/"
        },
        "id": "KKfWYc0TLCGO",
        "outputId": "d7ab89ad-bf3b-4e23-d0f5-6739eb660806"
      },
      "outputs": [
        {
          "output_type": "stream",
          "name": "stdout",
          "text": [
            "Requirement already satisfied: requests in /usr/local/lib/python3.10/dist-packages (2.32.3)\n",
            "Requirement already satisfied: charset-normalizer<4,>=2 in /usr/local/lib/python3.10/dist-packages (from requests) (3.3.2)\n",
            "Requirement already satisfied: idna<4,>=2.5 in /usr/local/lib/python3.10/dist-packages (from requests) (3.7)\n",
            "Requirement already satisfied: urllib3<3,>=1.21.1 in /usr/local/lib/python3.10/dist-packages (from requests) (2.0.7)\n",
            "Requirement already satisfied: certifi>=2017.4.17 in /usr/local/lib/python3.10/dist-packages (from requests) (2024.7.4)\n"
          ]
        }
      ],
      "source": [
        "!pip install requests\n"
      ]
    },
    {
      "cell_type": "code",
      "source": [
        "!pip install requests pytest\n"
      ],
      "metadata": {
        "colab": {
          "base_uri": "https://localhost:8080/"
        },
        "id": "vosn2n_YOQqg",
        "outputId": "411d4399-9be1-45a6-c481-6c404b1f0880"
      },
      "execution_count": 3,
      "outputs": [
        {
          "output_type": "stream",
          "name": "stdout",
          "text": [
            "Requirement already satisfied: requests in /usr/local/lib/python3.10/dist-packages (2.32.3)\n",
            "Requirement already satisfied: pytest in /usr/local/lib/python3.10/dist-packages (7.4.4)\n",
            "Requirement already satisfied: charset-normalizer<4,>=2 in /usr/local/lib/python3.10/dist-packages (from requests) (3.3.2)\n",
            "Requirement already satisfied: idna<4,>=2.5 in /usr/local/lib/python3.10/dist-packages (from requests) (3.7)\n",
            "Requirement already satisfied: urllib3<3,>=1.21.1 in /usr/local/lib/python3.10/dist-packages (from requests) (2.0.7)\n",
            "Requirement already satisfied: certifi>=2017.4.17 in /usr/local/lib/python3.10/dist-packages (from requests) (2024.7.4)\n",
            "Requirement already satisfied: iniconfig in /usr/local/lib/python3.10/dist-packages (from pytest) (2.0.0)\n",
            "Requirement already satisfied: packaging in /usr/local/lib/python3.10/dist-packages (from pytest) (24.1)\n",
            "Requirement already satisfied: pluggy<2.0,>=0.12 in /usr/local/lib/python3.10/dist-packages (from pytest) (1.5.0)\n",
            "Requirement already satisfied: exceptiongroup>=1.0.0rc8 in /usr/local/lib/python3.10/dist-packages (from pytest) (1.2.2)\n",
            "Requirement already satisfied: tomli>=1.0.0 in /usr/local/lib/python3.10/dist-packages (from pytest) (2.0.1)\n"
          ]
        }
      ]
    },
    {
      "cell_type": "code",
      "source": [
        "!pip install pytest\n"
      ],
      "metadata": {
        "colab": {
          "base_uri": "https://localhost:8080/"
        },
        "id": "43VGewcROg0f",
        "outputId": "c5953779-08cf-4fa6-f01a-25f5c95d3aac"
      },
      "execution_count": 4,
      "outputs": [
        {
          "output_type": "stream",
          "name": "stdout",
          "text": [
            "Requirement already satisfied: pytest in /usr/local/lib/python3.10/dist-packages (7.4.4)\n",
            "Requirement already satisfied: iniconfig in /usr/local/lib/python3.10/dist-packages (from pytest) (2.0.0)\n",
            "Requirement already satisfied: packaging in /usr/local/lib/python3.10/dist-packages (from pytest) (24.1)\n",
            "Requirement already satisfied: pluggy<2.0,>=0.12 in /usr/local/lib/python3.10/dist-packages (from pytest) (1.5.0)\n",
            "Requirement already satisfied: exceptiongroup>=1.0.0rc8 in /usr/local/lib/python3.10/dist-packages (from pytest) (1.2.2)\n",
            "Requirement already satisfied: tomli>=1.0.0 in /usr/local/lib/python3.10/dist-packages (from pytest) (2.0.1)\n"
          ]
        }
      ]
    },
    {
      "cell_type": "code",
      "source": [
        "import requests\n",
        "\n",
        "def perform_get_request(url=\"https://httpbin.org/get\"):\n",
        "    response = requests.get(url)\n",
        "    return response\n"
      ],
      "metadata": {
        "id": "rEjWXLeJOocI"
      },
      "execution_count": 5,
      "outputs": []
    },
    {
      "cell_type": "code",
      "source": [
        "def perform_get_with_params(url=\"https://httpbin.org/get\", params=None):\n",
        "    response = requests.get(url, params=params)\n",
        "    return response\n"
      ],
      "metadata": {
        "id": "VNCBIs3JOroB"
      },
      "execution_count": 6,
      "outputs": []
    },
    {
      "cell_type": "code",
      "source": [
        "def perform_post_request(url=\"https://httpbin.org/post\", data=None):\n",
        "    response = requests.post(url, data=data)\n",
        "    return response\n"
      ],
      "metadata": {
        "id": "lOj9YTkuOsRK"
      },
      "execution_count": 7,
      "outputs": []
    },
    {
      "cell_type": "code",
      "source": [
        "def perform_put_request(url=\"https://httpbin.org/put\", data=None):\n",
        "    response = requests.put(url, data=data)\n",
        "    return response\n"
      ],
      "metadata": {
        "id": "xbCpAReTOtq8"
      },
      "execution_count": 8,
      "outputs": []
    },
    {
      "cell_type": "code",
      "source": [
        "def perform_patch_request(url=\"https://httpbin.org/patch\", data=None):\n",
        "    response = requests.patch(url, data=data)\n",
        "    return response\n"
      ],
      "metadata": {
        "id": "jQ-3-VckOvKd"
      },
      "execution_count": 9,
      "outputs": []
    },
    {
      "cell_type": "code",
      "source": [
        "def perform_delete_request(url=\"https://httpbin.org/delete\"):\n",
        "    response = requests.delete(url)\n",
        "    return response\n"
      ],
      "metadata": {
        "id": "Fnm73a5UOwg6"
      },
      "execution_count": 10,
      "outputs": []
    },
    {
      "cell_type": "code",
      "source": [
        "def inspect_redirect_headers(url=\"https://httpbin.org/redirect/1\"):\n",
        "    response = requests.get(url, allow_redirects=False)\n",
        "    return response.headers.get('Location')\n"
      ],
      "metadata": {
        "id": "H9znEwEwOxq3"
      },
      "execution_count": 11,
      "outputs": []
    },
    {
      "cell_type": "code",
      "source": [
        "# Test GET Request\n",
        "response = perform_get_request()\n",
        "assert response.status_code == 200\n",
        "print(\"GET request passed.\")\n",
        "\n",
        "# Test GET Request with Parameters\n",
        "response = perform_get_with_params(params={'param1': 'value1'})\n",
        "assert response.status_code == 200\n",
        "print(\"GET with parameters passed.\")\n",
        "\n",
        "# Test POST Request\n",
        "response = perform_post_request(data={'key': 'value'})\n",
        "assert response.status_code == 200\n",
        "print(\"POST request passed.\")\n",
        "\n",
        "# Test PUT Request\n",
        "response = perform_put_request(data={'key': 'value'})\n",
        "assert response.status_code == 200\n",
        "print(\"PUT request passed.\")\n",
        "\n",
        "# Test PATCH Request\n",
        "response = perform_patch_request(data={'key': 'value'})\n",
        "assert response.status_code == 200\n",
        "print(\"PATCH request passed.\")\n",
        "\n",
        "# Test DELETE Request\n",
        "response = perform_delete_request()\n",
        "assert response.status_code == 200\n",
        "print(\"DELETE request passed.\")\n",
        "\n",
        "# Test Redirect Headers\n",
        "location = inspect_redirect_headers()\n",
        "assert location is not None\n",
        "print(\"Redirect header inspection passed.\")\n"
      ],
      "metadata": {
        "colab": {
          "base_uri": "https://localhost:8080/"
        },
        "id": "BohghzZsOy_S",
        "outputId": "a4ef3977-5848-4c79-aa50-fcffab2a83f6"
      },
      "execution_count": 12,
      "outputs": [
        {
          "output_type": "stream",
          "name": "stdout",
          "text": [
            "GET request passed.\n",
            "GET with parameters passed.\n",
            "POST request passed.\n",
            "PUT request passed.\n",
            "PATCH request passed.\n",
            "DELETE request passed.\n",
            "Redirect header inspection passed.\n"
          ]
        }
      ]
    }
  ]
}